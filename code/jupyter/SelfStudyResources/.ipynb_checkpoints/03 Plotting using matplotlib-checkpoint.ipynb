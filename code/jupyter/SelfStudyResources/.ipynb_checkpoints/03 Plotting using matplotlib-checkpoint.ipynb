{
 "cells": [
  {
   "cell_type": "markdown",
   "metadata": {},
   "source": [
    "# A Python Quick Start Tutorial - Part 3\n",
    "\n",
    "## by Peter Mackenzie-Helnwein\n",
    "University of Washington, Seattle, WA\n",
    "\n",
    "pmackenz@uw.edu          \n",
    "https://www.ce.washington.edu/facultyfinder/peter-mackenzie-helnwein"
   ]
  },
  {
   "cell_type": "markdown",
   "metadata": {},
   "source": [
    "# Plotting using matplotlib\n",
    "\n",
    "**matplotlib** (https://matplotlib.org/) provides a simple to use yet powerful 2D and some 3D plotting capability.  It is modelled after MATLAB, so if you are familiar with plotting in MATLAB, you should feel right at home.  We will show some basic examples here but there is much more to see and learn than can be covered here.  The best way of solving your plotting problem is to browse through https://matplotlib.org/gallery/index.html, find a plot that is most similar to what you need, and work off the provided examples."
   ]
  },
  {
   "cell_type": "markdown",
   "metadata": {},
   "source": [
    "First, let's load the pyplot interface and give it a convenient shortcut, plt (we don't want to write matplotlib.pyplot... all the time)"
   ]
  },
  {
   "cell_type": "code",
   "execution_count": null,
   "metadata": {},
   "outputs": [],
   "source": [
    "import numpy as np\n",
    "import matplotlib.pyplot as plt"
   ]
  },
  {
   "cell_type": "markdown",
   "metadata": {},
   "source": [
    "Next, create a set of point for the primary variable ..."
   ]
  },
  {
   "cell_type": "code",
   "execution_count": null,
   "metadata": {},
   "outputs": [],
   "source": [
    "x=np.linspace(0,2*np.pi,100)"
   ]
  },
  {
   "cell_type": "markdown",
   "metadata": {},
   "source": [
    "... and plot a sine function.  We are making use of **numpy**'s vectorized functions, which work on entire arrays instead of just a single number."
   ]
  },
  {
   "cell_type": "code",
   "execution_count": null,
   "metadata": {},
   "outputs": [],
   "source": [
    "plt.plot(x,np.sin(x),'-r')"
   ]
  },
  {
   "cell_type": "code",
   "execution_count": null,
   "metadata": {},
   "outputs": [],
   "source": [
    "plt.plot(x,np.cos(x),'--b')"
   ]
  },
  {
   "cell_type": "markdown",
   "metadata": {},
   "source": [
    "Note that the new plot overwrote the previous plot.  If you want to plot multiple curves in a single plot, put the respective plot commands into  single cell (this is the default when writing python code ina file instead of a jupyter notebook)."
   ]
  },
  {
   "cell_type": "code",
   "execution_count": null,
   "metadata": {},
   "outputs": [],
   "source": [
    "plt.plot(x,np.sin(x),'-r')\n",
    "plt.plot(x,np.cos(x),'--b')\n",
    "plt.grid(True)"
   ]
  },
  {
   "cell_type": "markdown",
   "metadata": {},
   "source": [
    "You can save your figure using the plt.savefig() command.  Provide a filename with extension pdf, png, jpg, tif, ... and matplotlib will recognize the desired file format from this extension.  There are lots of extra switches for this command, so don't forget to check out [the manual page](https://matplotlib.org/api/_as_gen/matplotlib.pyplot.savefig.html?highlight=savefig#matplotlib.pyplot.savefig)"
   ]
  },
  {
   "cell_type": "code",
   "execution_count": null,
   "metadata": {},
   "outputs": [],
   "source": [
    "plt.plot(x,np.sin(x),'-r',label='sin(x)')\n",
    "plt.plot(x,np.cos(x),'--b',label='cos(x)')\n",
    "plt.plot(x,np.tan(x),'-.g',label='tan(x)')\n",
    "plt.grid(True)\n",
    "plt.ylim(-5,+5)\n",
    "\n",
    "plt.legend()\n",
    "plt.title('Trigonometric functions')\n",
    "plt.xlabel('$x$ in radians')\n",
    "plt.ylabel('function value, $f(x)$')\n",
    "\n",
    "plt.savefig('examplefigure.png')"
   ]
  },
  {
   "cell_type": "markdown",
   "metadata": {},
   "source": [
    "You can check the saved result file here: [files/examplefigure.png](files/examplefigure.png)"
   ]
  },
  {
   "cell_type": "markdown",
   "metadata": {},
   "source": [
    "<hr>\n",
    "\n",
    "[Jump to chapter 2: Matrix Data Types](./02%20Matrix%20Data%20Types.ipynb)\n",
    "\n",
    "[Jump to chapter 4: File I/O](./04%20File%20handling.ipynb)\n",
    "\n",
    "[Back to the outline](./00%20Outline.ipynb)"
   ]
  }
 ],
 "metadata": {
  "kernelspec": {
   "display_name": "Python 3 (ipykernel)",
   "language": "python",
   "name": "python3"
  },
  "language_info": {
   "codemirror_mode": {
    "name": "ipython",
    "version": 3
   },
   "file_extension": ".py",
   "mimetype": "text/x-python",
   "name": "python",
   "nbconvert_exporter": "python",
   "pygments_lexer": "ipython3",
   "version": "3.7.8"
  }
 },
 "nbformat": 4,
 "nbformat_minor": 4
}
