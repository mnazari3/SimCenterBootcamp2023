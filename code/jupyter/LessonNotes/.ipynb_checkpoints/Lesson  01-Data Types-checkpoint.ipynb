{
 "cells": [
  {
   "cell_type": "markdown",
   "metadata": {},
   "source": [
    "# A Python Quick Start Tutorial\n",
    "# Lesson \\#1: Basic data types and functions\n",
    "## by Peter Mackenzie-Helnwein\n",
    "University of Washington, Seattle, WA\n",
    "\n",
    "pmackenz@uw.edu          \n",
    "https://www.ce.washington.edu/facultyfinder/peter-mackenzie-helnwein"
   ]
  },
  {
   "cell_type": "markdown",
   "metadata": {},
   "source": [
    "## Resources\n",
    "\n",
    "   1. Python Docs: https://docs.python.org/3/\n",
    "   \n",
    "   1. Python Tutorial (comprehensive): https://docs.python.org/3/tutorial/index.html\n",
    "   \n",
    "   1. Python Library Reference (the nitty-gritty details): https://docs.python.org/3/library/index.html\n",
    "   \n",
    "   1. Everything else: http://google.com\n",
    "   "
   ]
  },
  {
   "cell_type": "markdown",
   "metadata": {},
   "source": [
    "## Discussing questions from the self-study assignment\n",
    "\n",
    "This section is to discuss your questions\n"
   ]
  },
  {
   "cell_type": "markdown",
   "metadata": {},
   "source": [
    "### Exercise 1\n",
    "\n",
    "**Theory**:\n",
    "Stress transformation\n",
    "\n",
    "$$\n",
    "\\begin{aligned}\n",
    "\\sigma_{x}' &= \\sigma_{x} \\cos^2\\theta + \\sigma_{y} \\sin^2\\theta + 2\\tau_{xy} \\sin\\theta \\cos\\theta \\\\\n",
    "\\sigma_{y}' &= \\sigma_{x} \\sin^2\\theta + \\sigma_{y} \\cos^2\\theta - 2\\tau_{xy} \\sin\\theta \\cos\\theta \\\\\n",
    "\\tau_{xy}'  &= (\\sigma_{y} - \\sigma_{x}) \\sin\\theta \\cos\\theta + \\tau_{xy} (\\cos^2\\theta - \\sin^2\\theta) \\\\\n",
    "\\end{aligned}\n",
    "$$\n",
    "\n",
    "**Given**:\n",
    "Stress state:\n",
    "\n",
    "$$\n",
    "\\sigma_{x} = 12~ksi~,\n",
    "~~~\n",
    "\\sigma_{y} = -5.5~ksi~,\n",
    "~~~\n",
    "\\tau_{xy} = 3.5~ksi \n",
    "$$\n",
    "\n",
    "**Find**:\n",
    "Components of stress in a rotated coordinate system for $\\theta=25^\\circ$."
   ]
  },
  {
   "cell_type": "code",
   "execution_count": 1,
   "metadata": {},
   "outputs": [],
   "source": [
    "# theta needs to be in radians\n",
    "# sin and cos are not part of phython\n",
    "\n",
    "from math import sin, cos, pi, radians"
   ]
  },
  {
   "cell_type": "code",
   "execution_count": 3,
   "metadata": {},
   "outputs": [
    {
     "data": {
      "text/plain": [
       "0.0"
      ]
     },
     "execution_count": 3,
     "metadata": {},
     "output_type": "execute_result"
    }
   ],
   "source": [
    "radians(180)-pi"
   ]
  },
  {
   "cell_type": "code",
   "execution_count": 4,
   "metadata": {},
   "outputs": [],
   "source": [
    "sigmax = 12.\n",
    "sigmay = -5.5\n",
    "tau    = 3.5"
   ]
  },
  {
   "cell_type": "code",
   "execution_count": 50,
   "metadata": {},
   "outputs": [],
   "source": [
    "theta = radians(25.)\n",
    "\n",
    "cs = cos (theta)\n",
    "sn = sin (theta)\n",
    "\n",
    "sigmaxp = sigmax * cs**2 + sigmay * sn**2 + 2 * tau * sn * cs\n",
    "sigmayp = sigmax * sn**2 + sigmay * cs**2 - 2 * tau * sn * cs\n",
    "taup    = (sigmay - sigmax) * sn * cs + tau * (cs**2 - sn**2)"
   ]
  },
  {
   "cell_type": "code",
   "execution_count": 51,
   "metadata": {},
   "outputs": [
    {
     "name": "stdout",
     "output_type": "stream",
     "text": [
      "sigx'=11.555547135673642, sigy'=-5.055547135673642, tau'=-4.453132243388171\n"
     ]
    }
   ],
   "source": [
    "print(f\"sigx'={sigmaxp}, sigy'={sigmayp}, tau'={taup}\")"
   ]
  },
  {
   "cell_type": "code",
   "execution_count": 52,
   "metadata": {},
   "outputs": [
    {
     "data": {
      "text/plain": [
       "\"sigx'=11.555547135673642, sigy'=-5.055547135673642, tau'=-4.453132243388171\""
      ]
     },
     "execution_count": 52,
     "metadata": {},
     "output_type": "execute_result"
    }
   ],
   "source": [
    "\"sigx'={}, sigy'={}, tau'={}\".format(sigmaxp,sigmayp,taup)"
   ]
  },
  {
   "cell_type": "code",
   "execution_count": 53,
   "metadata": {},
   "outputs": [
    {
     "data": {
      "text/plain": [
       "\"sigx'=11.56, sigy'=   -5.06e+00, tau'=-4.45\""
      ]
     },
     "execution_count": 53,
     "metadata": {},
     "output_type": "execute_result"
    }
   ],
   "source": [
    "\"sigx'={:.2f}, sigy'={:12.2e}, tau'={:.2f}\".format(sigmaxp,sigmayp,taup)"
   ]
  },
  {
   "cell_type": "code",
   "execution_count": 54,
   "metadata": {},
   "outputs": [
    {
     "name": "stdout",
     "output_type": "stream",
     "text": [
      "sigx'=11.56, sigy'=   -5.06e+00, tau'=-4.45\n"
     ]
    }
   ],
   "source": [
    "print(\"sigx'={:.2f}, sigy'={:12.2e}, tau'={:.2f}\".format(sigmaxp,sigmayp,taup))"
   ]
  },
  {
   "cell_type": "code",
   "execution_count": 55,
   "metadata": {},
   "outputs": [
    {
     "name": "stdout",
     "output_type": "stream",
     "text": [
      "sigx'=11.56, sigy'=   -5.06e+00, tau'=-4.45\n"
     ]
    }
   ],
   "source": [
    "print(f\"sigx'={sigmaxp:.2f}, sigy'={sigmayp:12.2e}, tau'={taup:.2f}\")"
   ]
  },
  {
   "cell_type": "markdown",
   "metadata": {},
   "source": [
    "### Exercise 2\n",
    "\n",
    "Convert the calculation from exercise 1 to a function"
   ]
  },
  {
   "cell_type": "code",
   "execution_count": 77,
   "metadata": {},
   "outputs": [],
   "source": [
    "def stressTransform(sigx, sigy, tauxy, theta):\n",
    "    # YOUR CODE\n",
    "    cs = cos (radians (theta))\n",
    "    sn = sin (radians (theta))\n",
    "    \n",
    "    sx  = sigx * cs**2 + sigy * sn**2 + 2 * tauxy * sn * cs\n",
    "    sy  = sigx * sn**2 + sigy * cs**2 - 2 * tauxy * sn * cs\n",
    "    txy = (sigy - sigx) * sn * cs + tauxy * (cs**2 - sn**2)\n",
    "    \n",
    "    return (sx,sy,txy)"
   ]
  },
  {
   "cell_type": "markdown",
   "metadata": {},
   "source": [
    "Test your function for \n",
    "\n",
    "* $\\theta=0$ (what should the result look like?)\n",
    "* $\\theta=25^\\circ$\n",
    "* $\\theta=180^\\circ$"
   ]
  },
  {
   "cell_type": "code",
   "execution_count": 78,
   "metadata": {},
   "outputs": [
    {
     "data": {
      "text/plain": [
       "(12.0, -5.5, 3.5)"
      ]
     },
     "execution_count": 78,
     "metadata": {},
     "output_type": "execute_result"
    }
   ],
   "source": [
    "stressTransform(12., -5.5, 3.5, 0.0)"
   ]
  },
  {
   "cell_type": "code",
   "execution_count": 79,
   "metadata": {},
   "outputs": [
    {
     "name": "stdout",
     "output_type": "stream",
     "text": [
      "sigx'=12.000000, sigy'=-5.500000, tau'=3.500000\n"
     ]
    }
   ],
   "source": [
    "s1,s2,s3 = stressTransform(12., -5.5, 3.5, 0.0)\n",
    "\n",
    "print (f\"sigx'={s1:.6f}, sigy'={s2:.6f}, tau'={s3:.6f}\")\n"
   ]
  },
  {
   "cell_type": "code",
   "execution_count": 80,
   "metadata": {},
   "outputs": [
    {
     "name": "stdout",
     "output_type": "stream",
     "text": [
      "sigx'=12.000000, sigy'=-5.500000, tau'=3.500000\n"
     ]
    }
   ],
   "source": [
    "stress = stressTransform(12., -5.5, 3.5, 0.0)\n",
    "print (f\"sigx'={stress[0]:.6f}, sigy'={stress[1]:.6f}, tau'={stress[2]:.6f}\")\n"
   ]
  },
  {
   "cell_type": "code",
   "execution_count": 81,
   "metadata": {},
   "outputs": [
    {
     "name": "stdout",
     "output_type": "stream",
     "text": [
      "sigx'=12.000000, sigy'=-5.500000, tau'=3.500000\n"
     ]
    }
   ],
   "source": [
    "stress = stressTransform(12., -5.5, 3.5, 0.0)\n",
    "print (\"sigx'={:.6f}, sigy'={:.6f}, tau'={:.6f}\".format(stress[0], stress[1], stress[2]))"
   ]
  },
  {
   "cell_type": "code",
   "execution_count": 82,
   "metadata": {},
   "outputs": [
    {
     "name": "stdout",
     "output_type": "stream",
     "text": [
      "sigx'=12.000000, sigy'=-5.500000, tau'=3.500000\n"
     ]
    }
   ],
   "source": [
    "stress = stressTransform(12., -5.5, 3.5, 0.0)\n",
    "print (\"sigx'={:.6f}, sigy'={:.6f}, tau'={:.6f}\".format(*stress))"
   ]
  },
  {
   "cell_type": "code",
   "execution_count": 83,
   "metadata": {},
   "outputs": [
    {
     "name": "stdout",
     "output_type": "stream",
     "text": [
      "theta=   0.0: sigx'=12.000000, sigy'=-5.500000, tau'=3.500000\n"
     ]
    }
   ],
   "source": [
    "template = \"theta={:6.2}: sigx'={:.6f}, sigy'={:.6f}, tau'={:.6f}\"\n",
    "\n",
    "theta = 0.0\n",
    "stress = stressTransform(12., -5.5, 3.5, theta)\n",
    "print (template.format(theta, *stress))"
   ]
  },
  {
   "cell_type": "code",
   "execution_count": 85,
   "metadata": {},
   "outputs": [
    {
     "name": "stdout",
     "output_type": "stream",
     "text": [
      "theta=   0.00: sigx'=   12.000000, sigy'=   -5.500000, tau'=    3.500000\n",
      "theta=  25.00: sigx'=   11.555547, sigy'=   -5.055547, tau'=   -4.453132\n",
      "theta=  90.00: sigx'=   -5.500000, sigy'=   12.000000, tau'=   -3.500000\n",
      "theta= 135.00: sigx'=   -0.250000, sigy'=    6.750000, tau'=    8.750000\n",
      "theta= 180.00: sigx'=   12.000000, sigy'=   -5.500000, tau'=    3.500000\n"
     ]
    }
   ],
   "source": [
    "template = \"theta={:7.2f}: sigx'={:12.6f}, sigy'={:12.6f}, tau'={:12.6f}\"\n",
    "\n",
    "thetas = [0., 25., 90., 135., 180.]\n",
    "\n",
    "for theta in thetas:\n",
    "    stress = stressTransform(12., -5.5, 3.5, theta)\n",
    "    print (template.format(theta, *stress))"
   ]
  },
  {
   "cell_type": "markdown",
   "metadata": {},
   "source": [
    "### Exercise 3\n",
    "\n",
    "Let's use this function to study stress transformation.  In order to do so,\n",
    "\n",
    "1. Create a list of 81 evenly spaced $\\theta$-values from $0^\\circ$ to $180^\\circ$.\n",
    "2. Compute the transformed stress for each of these values and collect the results in three lists: \n",
    "\n",
    "       sigmax_values = ...\n",
    "       sigmay_values = ...\n",
    "       tauxy_values = ...\n",
    "\n",
    "3. print a nice table with 4 columns: $\\theta$, $\\sigma_x'$, $\\sigma_y'$, $\\tau_{xy}'$"
   ]
  },
  {
   "cell_type": "code",
   "execution_count": null,
   "metadata": {},
   "outputs": [],
   "source": [
    "sigmax_values = []\n",
    "sigmay_values = []\n",
    "tauxy_values = []\n",
    "\n",
    "# YOUR CODE HERE"
   ]
  },
  {
   "cell_type": "markdown",
   "metadata": {},
   "source": [
    "### Exercise 4: Explore plotting in python\n",
    "\n",
    "For this, check out https://matplotlib.org/3.1.1/gallery/lines_bars_and_markers/simple_plot.html#sphx-glr-gallery-lines-bars-and-markers-simple-plot-py\n",
    "\n",
    "I copied the demo code below so you can modify it to plot $(\\sigma_{x}'/\\tau_{xy}')$ and  $(\\sigma_{y}'/-\\tau_{xy}')$ curves from the data collected in `sigmax_values`, `sigmay_values`, `tauxy_values`"
   ]
  },
  {
   "cell_type": "code",
   "execution_count": null,
   "metadata": {},
   "outputs": [],
   "source": [
    "import matplotlib\n",
    "import matplotlib.pyplot as plt\n",
    "import numpy as np\n",
    "\n",
    "# Data for plotting\n",
    "t = np.arange(0.0, 2.0, 0.01)\n",
    "s = 1 + np.sin(2 * np.pi * t)\n",
    "\n",
    "fig, ax = plt.subplots()\n",
    "ax.plot(t, s)\n",
    "\n",
    "ax.set(xlabel='time (s)', ylabel='voltage (mV)',\n",
    "       title='About as simple as it gets, folks')\n",
    "ax.grid()\n",
    "\n",
    "# I comment writing the figure to file ... makes this quicker\n",
    "# fig.savefig(\"test.png\")\n",
    "plt.show()"
   ]
  },
  {
   "cell_type": "markdown",
   "metadata": {},
   "source": [
    "**Remark**: This was just to wet your appetite! We will talk much more about `numpy` and `matplotlib` next week."
   ]
  },
  {
   "cell_type": "markdown",
   "metadata": {},
   "source": [
    "## Exercise 5: List versus dictionary\n",
    "\n",
    "You could express the stress state as\n",
    "\n",
    "1. three independent variables - the way we did it thus far\n",
    "\n",
    "2. a list of three values: `stress = `$[\\sigma_x, \\sigma_y, \\tau_{xy}]$ and replace\n",
    "\n",
    "        sigma_x --> stress[0]\n",
    "        sigma_y --> stress[2]\n",
    "        tau_xy  --> stress[3]\n",
    "        \n",
    "3. a dictionary \n",
    "\n",
    "        stress = {'sigx': 12.0, 'sigy': -5.5, 'tau':3.50}\n",
    "        \n",
    "   and replace\n",
    "\n",
    "        sigma_x --> stress['sigx']\n",
    "        sigma_y --> stress['sigy']\n",
    "        tau_xy  --> stress['tau']\n",
    "\n",
    "**Discuss**:\n",
    "\n",
    "1. Pros and cons for coding the equations\n",
    "2. Pros and cons for coding the function(s)\n",
    "3. How woud code and function change when switching from 2D to 3D (6 components instead of 3 components)\n",
    "\n",
    "Feel free to implement an alternative form of stressTrannsform() that looks like this:"
   ]
  },
  {
   "cell_type": "code",
   "execution_count": null,
   "metadata": {},
   "outputs": [],
   "source": [
    "def stressTransform(stress, theta):\n",
    "    # YOUR CODE\n",
    "    # stress2 is a list or dictionary, just as stress is\n",
    "    \n",
    "    return stress2"
   ]
  },
  {
   "cell_type": "code",
   "execution_count": null,
   "metadata": {},
   "outputs": [],
   "source": []
  },
  {
   "cell_type": "markdown",
   "metadata": {},
   "source": [
    "## Homework questions\n",
    "\n",
    "We can all learn from your questions!"
   ]
  },
  {
   "cell_type": "code",
   "execution_count": null,
   "metadata": {},
   "outputs": [],
   "source": []
  }
 ],
 "metadata": {
  "kernelspec": {
   "display_name": "Python 3 (ipykernel)",
   "language": "python",
   "name": "python3"
  },
  "language_info": {
   "codemirror_mode": {
    "name": "ipython",
    "version": 3
   },
   "file_extension": ".py",
   "mimetype": "text/x-python",
   "name": "python",
   "nbconvert_exporter": "python",
   "pygments_lexer": "ipython3",
   "version": "3.7.8"
  }
 },
 "nbformat": 4,
 "nbformat_minor": 4
}
